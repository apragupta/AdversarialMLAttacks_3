{
 "cells": [
  {
   "cell_type": "markdown",
   "metadata": {
    "collapsed": true
   },
   "source": [
    "# Code for training CNN on MNIST and saving weights\n"
   ]
  },
  {
   "cell_type": "code",
   "execution_count": 19,
   "metadata": {
    "ExecuteTime": {
     "end_time": "2021-10-29T03:04:17.947331Z",
     "start_time": "2021-10-29T03:04:17.923335Z"
    }
   },
   "outputs": [
    {
     "name": "stdout",
     "output_type": "stream",
     "text": [
      "Num GPUs Available:  1\n",
      "Tensorflow version:  2.4.0\n"
     ]
    }
   ],
   "source": [
    "import numpy as np\n",
    "import tensorflow as tf\n",
    "from tensorflow import keras\n",
    "from tensorflow.keras import layers\n",
    "#initialization code required to make tensorflow work on my systemabs\n",
    "config = tf.compat.v1.ConfigProto()\n",
    "config.gpu_options.allow_growth = True\n",
    "session = tf.compat.v1.Session(config=config)\n",
    "#disabling eager execution \n",
    "tf.compat.v1.disable_eager_execution()\n",
    "print(\"Num GPUs Available: \", len(tf.config.list_physical_devices('GPU')))\n",
    "print(\"Tensorflow version: \",tf.__version__)"
   ]
  },
  {
   "cell_type": "code",
   "execution_count": 109,
   "metadata": {
    "ExecuteTime": {
     "end_time": "2021-10-29T03:23:49.017181Z",
     "start_time": "2021-10-29T03:23:49.007182Z"
    }
   },
   "outputs": [],
   "source": [
    "from tensorflow.keras.models import Sequential\n",
    "from tensorflow.keras.layers import Dense, Flatten, Conv2D, MaxPooling2D\n",
    "from tensorflow.keras.losses import categorical_crossentropy\n",
    "from tensorflow.keras.optimizers import Adam\n",
    "from tensorflow.keras.datasets.mnist import load_data\n",
    "from tensorflow.keras.utils import to_categorical\n",
    "from art.utils import load_mnist"
   ]
  },
  {
   "cell_type": "markdown",
   "metadata": {},
   "source": [
    "### I am using a simple covnet from the official ART for keras mnist tutorial linked [here](https://github.com/Trusted-AI/adversarial-robustness-toolbox/blob/main/examples/get_started_keras.py)"
   ]
  },
  {
   "cell_type": "markdown",
   "metadata": {},
   "source": [
    "Using ART's load_mnist() to load MNIST dataset"
   ]
  },
  {
   "cell_type": "code",
   "execution_count": 111,
   "metadata": {
    "ExecuteTime": {
     "end_time": "2021-10-29T03:23:55.492402Z",
     "start_time": "2021-10-29T03:23:54.983404Z"
    }
   },
   "outputs": [],
   "source": [
    "(x_train, y_train), (x_test, y_test), min_pixel_value, max_pixel_value = load_mnist()"
   ]
  },
  {
   "cell_type": "code",
   "execution_count": 112,
   "metadata": {
    "ExecuteTime": {
     "end_time": "2021-10-29T03:23:55.921404Z",
     "start_time": "2021-10-29T03:23:55.912404Z"
    }
   },
   "outputs": [
    {
     "data": {
      "text/plain": [
       "(10000, 28, 28, 1)"
      ]
     },
     "execution_count": 112,
     "metadata": {},
     "output_type": "execute_result"
    }
   ],
   "source": [
    "x_test.shape"
   ]
  },
  {
   "cell_type": "markdown",
   "metadata": {},
   "source": [
    "Define and compile the model architecture: taken directly from official ART tutorial linked above"
   ]
  },
  {
   "cell_type": "code",
   "execution_count": 113,
   "metadata": {
    "ExecuteTime": {
     "end_time": "2021-10-29T03:24:03.452402Z",
     "start_time": "2021-10-29T03:24:03.366405Z"
    }
   },
   "outputs": [],
   "source": [
    "#define\n",
    "model = Sequential()\n",
    "model.add(Conv2D(filters=4, kernel_size=(5, 5), strides=1, activation=\"relu\", input_shape=(28, 28, 1)))\n",
    "model.add(MaxPooling2D(pool_size=(2, 2)))\n",
    "model.add(Conv2D(filters=10, kernel_size=(5, 5), strides=1, activation=\"relu\", input_shape=(23, 23, 4)))\n",
    "model.add(MaxPooling2D(pool_size=(2, 2)))\n",
    "model.add(Flatten())\n",
    "model.add(Dense(100, activation=\"relu\"))\n",
    "model.add(Dense(10, activation=\"softmax\"))\n"
   ]
  },
  {
   "cell_type": "code",
   "execution_count": 114,
   "metadata": {
    "ExecuteTime": {
     "end_time": "2021-10-29T03:24:04.074402Z",
     "start_time": "2021-10-29T03:24:04.014404Z"
    }
   },
   "outputs": [],
   "source": [
    "#compile: Categorical Crossentropy Loss Function and Adam Optimizer used\n",
    "model.compile(loss=categorical_crossentropy, optimizer=Adam(learning_rate=0.01), metrics=[\"accuracy\"])"
   ]
  },
  {
   "cell_type": "markdown",
   "metadata": {},
   "source": [
    "Training model: I use more epochs and a larget batch size than the tutorial"
   ]
  },
  {
   "cell_type": "code",
   "execution_count": 120,
   "metadata": {
    "ExecuteTime": {
     "end_time": "2021-10-29T03:24:53.584924Z",
     "start_time": "2021-10-29T03:24:42.910925Z"
    }
   },
   "outputs": [
    {
     "name": "stdout",
     "output_type": "stream",
     "text": [
      "Train on 54000 samples, validate on 6000 samples\n",
      "Epoch 1/5\n",
      "54000/54000 [==============================] - 2s 39us/sample - loss: 0.0435 - accuracy: 0.9866 - val_loss: 0.0682 - val_accuracy: 0.9837\n",
      "Epoch 2/5\n",
      "54000/54000 [==============================] - 2s 39us/sample - loss: 0.0471 - accuracy: 0.9850 - val_loss: 0.0611 - val_accuracy: 0.9848\n",
      "Epoch 3/5\n",
      "54000/54000 [==============================] - 2s 39us/sample - loss: 0.0373 - accuracy: 0.9882 - val_loss: 0.0543 - val_accuracy: 0.9877\n",
      "Epoch 4/5\n",
      "54000/54000 [==============================] - 2s 40us/sample - loss: 0.0463 - accuracy: 0.9870 - val_loss: 0.0819 - val_accuracy: 0.9820\n",
      "Epoch 5/5\n",
      "54000/54000 [==============================] - 2s 39us/sample - loss: 0.0408 - accuracy: 0.9880 - val_loss: 0.0703 - val_accuracy: 0.9848\n"
     ]
    },
    {
     "data": {
      "text/plain": [
       "<tensorflow.python.keras.callbacks.History at 0x20d762e6be0>"
      ]
     },
     "execution_count": 120,
     "metadata": {},
     "output_type": "execute_result"
    }
   ],
   "source": [
    "\n",
    "batch_size = 128\n",
    "epochs = 5\n",
    "model.fit(x_train, y_train, batch_size=batch_size, epochs=epochs, validation_split=0.1)\n"
   ]
  },
  {
   "cell_type": "markdown",
   "metadata": {},
   "source": [
    "Lets sanity check by running inference on the train and test set"
   ]
  },
  {
   "cell_type": "code",
   "execution_count": 125,
   "metadata": {
    "ExecuteTime": {
     "end_time": "2021-10-29T03:25:49.008565Z",
     "start_time": "2021-10-29T03:25:48.198571Z"
    },
    "run_control": {
     "marked": true
    }
   },
   "outputs": [
    {
     "name": "stdout",
     "output_type": "stream",
     "text": [
      "Test loss: 0.07105395802160493\n",
      "Test accuracy: 0.9836\n"
     ]
    }
   ],
   "source": [
    "loss,accuracy = model.evaluate(x_test, y_test, verbose=0)\n",
    "print(\"Test loss:\", loss)\n",
    "print(\"Test accuracy:\", accuracy)"
   ]
  },
  {
   "cell_type": "markdown",
   "metadata": {},
   "source": [
    "Everything looks good!"
   ]
  },
  {
   "cell_type": "markdown",
   "metadata": {},
   "source": [
    "Lets save the model weights and create a standard attack testing set for target t=7"
   ]
  },
  {
   "cell_type": "code",
   "execution_count": 126,
   "metadata": {
    "ExecuteTime": {
     "end_time": "2021-10-29T03:25:51.329566Z",
     "start_time": "2021-10-29T03:25:51.294569Z"
    }
   },
   "outputs": [],
   "source": [
    "#save model weights\n",
    "model.save_weights(\"mnist_model_weights.h5\")\n",
    "\n",
    "\n"
   ]
  },
  {
   "cell_type": "code",
   "execution_count": 136,
   "metadata": {
    "ExecuteTime": {
     "end_time": "2021-10-29T05:07:09.681660Z",
     "start_time": "2021-10-29T05:07:08.176675Z"
    }
   },
   "outputs": [
    {
     "name": "stdout",
     "output_type": "stream",
     "text": [
      "INFO:tensorflow:Assets written to: softmax_model\\assets\n"
     ]
    }
   ],
   "source": [
    "#save full model for use with FSGM attack\n",
    "model.save(r'softmax_model')"
   ]
  },
  {
   "cell_type": "code",
   "execution_count": 123,
   "metadata": {
    "ExecuteTime": {
     "end_time": "2021-10-29T03:25:11.755923Z",
     "start_time": "2021-10-29T03:25:11.742926Z"
    }
   },
   "outputs": [],
   "source": [
    "#define target class\n",
    "t = 7"
   ]
  },
  {
   "cell_type": "code",
   "execution_count": 127,
   "metadata": {
    "ExecuteTime": {
     "end_time": "2021-10-29T03:26:39.199566Z",
     "start_time": "2021-10-29T03:26:39.174569Z"
    }
   },
   "outputs": [],
   "source": [
    "#save standardized test set: 100 examples that are not 7:\n",
    "#first pull out \n",
    "y_test_without_target = y_test[np.argmax(y_test,axis=1)!=t]\n",
    "x_test_without_target = x_test[np.argmax(y_test,axis=1)!=t]"
   ]
  },
  {
   "cell_type": "code",
   "execution_count": 128,
   "metadata": {
    "ExecuteTime": {
     "end_time": "2021-10-29T03:26:40.583568Z",
     "start_time": "2021-10-29T03:26:40.574568Z"
    }
   },
   "outputs": [
    {
     "data": {
      "text/plain": [
       "(8972, 28, 28, 1)"
      ]
     },
     "execution_count": 128,
     "metadata": {},
     "output_type": "execute_result"
    }
   ],
   "source": [
    "x_test_without_target.shape"
   ]
  },
  {
   "cell_type": "code",
   "execution_count": 129,
   "metadata": {
    "ExecuteTime": {
     "end_time": "2021-10-29T03:26:41.489566Z",
     "start_time": "2021-10-29T03:26:41.469567Z"
    }
   },
   "outputs": [
    {
     "data": {
      "text/plain": [
       "(8972, 10)"
      ]
     },
     "execution_count": 129,
     "metadata": {},
     "output_type": "execute_result"
    }
   ],
   "source": [
    "y_test_without_target.shape"
   ]
  },
  {
   "cell_type": "code",
   "execution_count": 130,
   "metadata": {
    "ExecuteTime": {
     "end_time": "2021-10-29T03:26:50.663566Z",
     "start_time": "2021-10-29T03:26:50.630580Z"
    }
   },
   "outputs": [],
   "source": [
    "#seeding to standardize across runs\n",
    "np.random.seed(1) \n",
    "#now, shuffle in unison randomly and save top 100 examples \n",
    "shuffler = np.random.permutation(len(y_test_without_target))\n",
    "x_attack_test = x_test_without_target[shuffler][:100]\n",
    "y_attack_test = y_test_without_target[shuffler][:100]"
   ]
  },
  {
   "cell_type": "code",
   "execution_count": 131,
   "metadata": {
    "ExecuteTime": {
     "end_time": "2021-10-29T03:26:52.145569Z",
     "start_time": "2021-10-29T03:26:52.135569Z"
    }
   },
   "outputs": [
    {
     "data": {
      "text/plain": [
       "(100, 28, 28, 1)"
      ]
     },
     "execution_count": 131,
     "metadata": {},
     "output_type": "execute_result"
    }
   ],
   "source": [
    "x_attack_test.shape"
   ]
  },
  {
   "cell_type": "code",
   "execution_count": 132,
   "metadata": {
    "ExecuteTime": {
     "end_time": "2021-10-29T03:26:52.829566Z",
     "start_time": "2021-10-29T03:26:52.814570Z"
    }
   },
   "outputs": [
    {
     "data": {
      "text/plain": [
       "(100, 10)"
      ]
     },
     "execution_count": 132,
     "metadata": {},
     "output_type": "execute_result"
    }
   ],
   "source": [
    "y_attack_test.shape"
   ]
  },
  {
   "cell_type": "code",
   "execution_count": 133,
   "metadata": {
    "ExecuteTime": {
     "end_time": "2021-10-29T03:26:54.003567Z",
     "start_time": "2021-10-29T03:26:53.990569Z"
    }
   },
   "outputs": [],
   "source": [
    "np.save(r'x_attack_test',x_attack_test)"
   ]
  },
  {
   "cell_type": "code",
   "execution_count": 134,
   "metadata": {
    "ExecuteTime": {
     "end_time": "2021-10-29T03:26:54.720567Z",
     "start_time": "2021-10-29T03:26:54.709570Z"
    }
   },
   "outputs": [],
   "source": [
    "np.save(r'y_attack_test', y_attack_test)"
   ]
  },
  {
   "cell_type": "code",
   "execution_count": 135,
   "metadata": {
    "ExecuteTime": {
     "end_time": "2021-10-29T03:26:55.387566Z",
     "start_time": "2021-10-29T03:26:55.333569Z"
    },
    "run_control": {
     "marked": true
    }
   },
   "outputs": [
    {
     "name": "stdout",
     "output_type": "stream",
     "text": [
      "Benign Sample Test loss: 0.003133925013210046\n",
      "Benign Sample Test accuracy: 1.0\n"
     ]
    }
   ],
   "source": [
    "#sanity checking accuracy on benign attack samples\n",
    "test_loss,test_accuracy = model.evaluate(x_attack_test, y_attack_test, verbose=0)\n",
    "print(\"Benign Sample Test loss:\", test_loss)\n",
    "print(\"Benign Sample Test accuracy:\", test_accuracy)"
   ]
  },
  {
   "cell_type": "code",
   "execution_count": null,
   "metadata": {},
   "outputs": [],
   "source": []
  },
  {
   "cell_type": "code",
   "execution_count": null,
   "metadata": {},
   "outputs": [],
   "source": []
  }
 ],
 "metadata": {
  "kernelspec": {
   "display_name": "Python 3 (ipykernel)",
   "language": "python",
   "name": "python3"
  },
  "language_info": {
   "codemirror_mode": {
    "name": "ipython",
    "version": 3
   },
   "file_extension": ".py",
   "mimetype": "text/x-python",
   "name": "python",
   "nbconvert_exporter": "python",
   "pygments_lexer": "ipython3",
   "version": "3.8.12"
  },
  "toc": {
   "base_numbering": 1,
   "nav_menu": {},
   "number_sections": true,
   "sideBar": true,
   "skip_h1_title": false,
   "title_cell": "Table of Contents",
   "title_sidebar": "Contents",
   "toc_cell": false,
   "toc_position": {},
   "toc_section_display": true,
   "toc_window_display": false
  },
  "varInspector": {
   "cols": {
    "lenName": 16,
    "lenType": 16,
    "lenVar": 40
   },
   "kernels_config": {
    "python": {
     "delete_cmd_postfix": "",
     "delete_cmd_prefix": "del ",
     "library": "var_list.py",
     "varRefreshCmd": "print(var_dic_list())"
    },
    "r": {
     "delete_cmd_postfix": ") ",
     "delete_cmd_prefix": "rm(",
     "library": "var_list.r",
     "varRefreshCmd": "cat(var_dic_list()) "
    }
   },
   "types_to_exclude": [
    "module",
    "function",
    "builtin_function_or_method",
    "instance",
    "_Feature"
   ],
   "window_display": false
  }
 },
 "nbformat": 4,
 "nbformat_minor": 1
}
