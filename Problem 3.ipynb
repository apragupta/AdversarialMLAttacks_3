{
 "cells": [
  {
   "cell_type": "markdown",
   "id": "30331b4d",
   "metadata": {
    "ExecuteTime": {
     "end_time": "2021-10-31T01:36:31.019912Z",
     "start_time": "2021-10-31T01:36:31.015908Z"
    }
   },
   "source": [
    "# Problem 3: Badnets Attack"
   ]
  },
  {
   "cell_type": "code",
   "execution_count": 2,
   "id": "786aebe5",
   "metadata": {
    "ExecuteTime": {
     "end_time": "2021-10-31T01:39:34.722267Z",
     "start_time": "2021-10-31T01:39:30.468271Z"
    }
   },
   "outputs": [
    {
     "name": "stdout",
     "output_type": "stream",
     "text": [
      "Num GPUs Available:  1\n",
      "Tensorflow version:  2.4.0\n"
     ]
    }
   ],
   "source": [
    "import numpy as np\n",
    "import tensorflow as tf\n",
    "from tensorflow import keras\n",
    "from tensorflow.keras import layers\n",
    "import pandas as pd \n",
    "import matplotlib.pyplot as plt \n",
    "#initialization code required to make tensorflow work on my systemabs\n",
    "config = tf.compat.v1.ConfigProto()\n",
    "config.gpu_options.allow_growth = True\n",
    "session = tf.compat.v1.Session(config=config)\n",
    "#disabling eager execution \n",
    "tf.compat.v1.disable_eager_execution()\n",
    "print(\"Num GPUs Available: \", len(tf.config.list_physical_devices('GPU')))\n",
    "print(\"Tensorflow version: \",tf.__version__)"
   ]
  },
  {
   "cell_type": "code",
   "execution_count": 3,
   "id": "aef546ab",
   "metadata": {
    "ExecuteTime": {
     "end_time": "2021-10-31T01:40:59.383628Z",
     "start_time": "2021-10-31T01:40:59.378627Z"
    }
   },
   "outputs": [],
   "source": [
    "from art.utils import load_mnist"
   ]
  },
  {
   "cell_type": "markdown",
   "id": "dff3ffa9",
   "metadata": {
    "ExecuteTime": {
     "end_time": "2021-10-31T01:42:03.952820Z",
     "start_time": "2021-10-31T01:42:03.935820Z"
    }
   },
   "source": [
    "### defining utilities: pixel masks"
   ]
  },
  {
   "cell_type": "code",
   "execution_count": 110,
   "id": "38a8e2ff",
   "metadata": {
    "ExecuteTime": {
     "end_time": "2021-10-31T02:42:26.982411Z",
     "start_time": "2021-10-31T02:42:26.965412Z"
    }
   },
   "outputs": [],
   "source": [
    "def get_top_left_mask(b, dims = (28,28,1)):\n",
    "    #returns an array (of given dims) containing 1 at b (must be a square) cells in the top left and 0 everywhere else\n",
    "    \n",
    "    \n",
    "    mask = np.zeros(dims)\n",
    "    \n",
    "    #get the width,height of the pattern\n",
    "    side = int(np.sqrt(b))\n",
    "    \n",
    "    \n",
    "    mask[0:side,0:side] = 1\n",
    "    return mask\n",
    "    \n",
    "    \n",
    "    \n",
    "    \n",
    "def get_bottom_right_mask(b, dims = (28,28,1)):\n",
    "    #returns an array (of given dims) containing 1 at b (must be a square) cells in the bottom right and 0 everywhere else\n",
    "    \n",
    "    height,width,channel = dims\n",
    "    mask = np.zeros(dims)\n",
    "    \n",
    "    #get the width,height of the pattern\n",
    "    side = int(np.sqrt(b))\n",
    "    \n",
    "    \n",
    "    mask[height-side:height,width-side:width] = 1\n",
    "    return mask\n",
    "    \n",
    "    \n",
    "    \n",
    "def get_center_mask(b, dims = (28,28,1)):\n",
    "    #returns an array (of given dims) containing 1 at b (must be a square) cells in the center and 0 everywhere else\n",
    "    \n",
    "    height,width,channel = dims\n",
    "    mask = np.zeros(dims)\n",
    "    \n",
    "    #get the width,height of the pattern\n",
    "    side = int(np.sqrt(b))\n",
    "    \n",
    "    #center offset \n",
    "    o = side//2 \n",
    "    \n",
    "    #half of height and width \n",
    "    h2 = height//2\n",
    "    w2 = width//2\n",
    "    \n",
    "    \n",
    "    mask[h2-o:h2-o+side,w2-o:w2-o+side] = 1\n",
    "    return mask\n",
    "    \n",
    "    \n",
    "    \n",
    "    \n",
    "    "
   ]
  },
  {
   "cell_type": "markdown",
   "id": "1b22b747",
   "metadata": {},
   "source": [
    "### Load training Data"
   ]
  },
  {
   "cell_type": "code",
   "execution_count": 75,
   "id": "9766ec1c",
   "metadata": {
    "ExecuteTime": {
     "end_time": "2021-10-31T02:12:46.482072Z",
     "start_time": "2021-10-31T02:12:45.932072Z"
    }
   },
   "outputs": [],
   "source": [
    "(x_train, y_train), (x_test, y_test), min_pixel_value, max_pixel_value = load_mnist()"
   ]
  },
  {
   "cell_type": "code",
   "execution_count": 105,
   "id": "8001a16c",
   "metadata": {
    "ExecuteTime": {
     "end_time": "2021-10-31T02:41:58.549328Z",
     "start_time": "2021-10-31T02:41:58.542329Z"
    }
   },
   "outputs": [],
   "source": [
    "def poison_points(x,poison_mask,poison_value):\n",
    "    #poisons batch of images (x)\n",
    "    \n",
    "    #first, set posioned pixels to 0 (dont change others)  \n",
    "    x = np.maximum(x - poison_mask,0)\n",
    "    \n",
    "    #then add mask*poison\n",
    "    x += poison_mask*poison_value\n",
    "    return x\n",
    "    \n",
    "    \n",
    "    "
   ]
  },
  {
   "cell_type": "code",
   "execution_count": 86,
   "id": "3548a6e0",
   "metadata": {
    "ExecuteTime": {
     "end_time": "2021-10-31T02:25:09.356250Z",
     "start_time": "2021-10-31T02:25:09.017254Z"
    }
   },
   "outputs": [],
   "source": [
    " x_pois = poison_point(x_train, get_top_left_mask(9, dims = (28,28,1)),1)"
   ]
  },
  {
   "cell_type": "code",
   "execution_count": 174,
   "id": "27bc24f8",
   "metadata": {
    "ExecuteTime": {
     "end_time": "2021-10-31T03:22:00.691957Z",
     "start_time": "2021-10-31T03:22:00.676960Z"
    }
   },
   "outputs": [],
   "source": [
    "def poison_data(x_train,y_train,poison_mask_func,p,b,poison_value,target=7, test=False):\n",
    "    #poisons training data based on given mask, p, b, target and poison_value (what to set pixel as)\n",
    "    #returns a shuffled and poisoned version of the training data\n",
    "    \n",
    "    #seperate out training data that is not the same as target\n",
    "    x_not = x_train[np.argmax(y_train,axis=1)!=target]\n",
    "    y_not = y_train[np.argmax(y_train,axis=1)!=target]\n",
    "    \n",
    "    \n",
    "    num_train = len(y_train)\n",
    "    #using p, get number of poisoned samples\n",
    "    num_p = int((p*0.01)*num_train)\n",
    "    \n",
    "    \n",
    "    ##seeding to standardize across runs\n",
    "    np.random.seed(1) \n",
    "    #now, shuffle in unison randomly and select p% samples to poison\n",
    "    shuffler = np.random.permutation(len(y_not))\n",
    "    \n",
    "    \n",
    "    #shuffle training data without target \n",
    "    shuffled_x_not = x_not[shuffler]\n",
    "    shuffled_y_not = y_not[shuffler]\n",
    "    \n",
    "    #take out the first num_points to poison\n",
    "    poison_x = shuffled_x_not[:num_p]\n",
    "\n",
    "    #get poison mask\n",
    "    poison_mask = poison_mask_func(b)\n",
    "    \n",
    "    #lets poison these\n",
    "    poisoned_x = poison_points(poison_x,poison_mask,poison_value)\n",
    "    \n",
    "\n",
    "    \n",
    "    #now lets add these back to the shuffled training set \n",
    "    shuffled_x_not[:num_p] = poisoned_x\n",
    "    \n",
    "    \n",
    "    if not test:\n",
    "        target_vector = np.zeros(10)\n",
    "        target_vector[target] = 1\n",
    "        shuffled_y_not[:num_p] = target_vector\n",
    "\n",
    "    \n",
    "    #now add back the samples which are actually labelled 7\n",
    "    x_target = x_train[np.argmax(y_train,axis=1)==target]\n",
    "    y_target = y_train[np.argmax(y_train,axis=1)==target]\n",
    "    \n",
    "    \n",
    "    #concatenate and reshuffle \n",
    "    x_train_poisoned = np.concatenate((shuffled_x_not,x_target),axis=0)\n",
    "    y_train_posioned = np.concatenate((shuffled_y_not,y_target),axis=0)\n",
    "    \n",
    "    #shuffle these and return \n",
    "    \n",
    "    ##seeding to standardize across runs\n",
    "    np.random.seed(1)     \n",
    "    full_shuffler = np.random.permutation(num_train)\n",
    "    \n",
    "    \n",
    "    #shuffle training data without target \n",
    "    x_train_poisoned = x_train_poisoned[full_shuffler]\n",
    "    y_train_poisoned = y_train_posioned[full_shuffler]\n",
    "    \n",
    "    return x_train_poisoned, y_train_poisoned\n",
    "    \n",
    "    \n",
    "    \n",
    "    \n",
    "    "
   ]
  },
  {
   "cell_type": "markdown",
   "id": "dba69bd2",
   "metadata": {},
   "source": [
    "### Define model"
   ]
  },
  {
   "cell_type": "code",
   "execution_count": 137,
   "id": "26b82be1",
   "metadata": {
    "ExecuteTime": {
     "end_time": "2021-10-31T02:52:09.665179Z",
     "start_time": "2021-10-31T02:52:09.659179Z"
    }
   },
   "outputs": [],
   "source": [
    "from tensorflow.keras.models import Sequential\n",
    "from tensorflow.keras.layers import Dense, Flatten, Conv2D, MaxPooling2D\n",
    "from tensorflow.keras.losses import categorical_crossentropy\n",
    "from tensorflow.keras.optimizers import Adam\n",
    "from tensorflow.keras.datasets.mnist import load_data\n",
    "from tensorflow.keras.utils import to_categorical\n",
    "from art.utils import load_mnist"
   ]
  },
  {
   "cell_type": "code",
   "execution_count": 144,
   "id": "70c2f317",
   "metadata": {
    "ExecuteTime": {
     "end_time": "2021-10-31T03:04:44.788579Z",
     "start_time": "2021-10-31T03:04:44.768582Z"
    }
   },
   "outputs": [],
   "source": [
    "#define\n",
    "def get_compiled_model():\n",
    "    #returns new compiled untrained model \n",
    "    model = Sequential()\n",
    "    model.add(Conv2D(filters=4, kernel_size=(5, 5), strides=1, activation=\"relu\", input_shape=(28, 28, 1)))\n",
    "    model.add(MaxPooling2D(pool_size=(2, 2)))\n",
    "    model.add(Conv2D(filters=10, kernel_size=(5, 5), strides=1, activation=\"relu\", input_shape=(23, 23, 4)))\n",
    "    model.add(MaxPooling2D(pool_size=(2, 2)))\n",
    "    model.add(Flatten())\n",
    "    model.add(Dense(100, activation=\"relu\"))\n",
    "    model.add(Dense(10, activation=\"softmax\"))\n",
    "    #compile: Categorical Crossentropy Loss Function and Adam Optimizer used\n",
    "    model.compile(loss=categorical_crossentropy, optimizer=Adam(learning_rate=0.01), metrics=[\"accuracy\"])\n",
    "    return model\n",
    "\n",
    "\n",
    "    "
   ]
  },
  {
   "cell_type": "markdown",
   "id": "1c50a698",
   "metadata": {},
   "source": [
    "## 1a: poisoning and accuracy loop"
   ]
  },
  {
   "cell_type": "code",
   "execution_count": 251,
   "id": "7c6f3ea9",
   "metadata": {
    "ExecuteTime": {
     "end_time": "2021-10-31T04:27:31.008458Z",
     "start_time": "2021-10-31T04:27:30.990458Z"
    }
   },
   "outputs": [],
   "source": [
    "def poison_and_test_model(poison_mask_func,p,b,poison_value,target=7):\n",
    "    #trains a poisoned model from scratch with given posioning paramters and prints \n",
    "    #accuracy on clean test data and accuracy on poisoned test data \n",
    "    \n",
    "    model = get_compiled_model()\n",
    "\n",
    "    #get poisoned training data \n",
    "    x_train_p,y_train_p = poison_training(x_train,y_train,poison_mask_func,p,b,poison_value)\n",
    "    \n",
    "    \n",
    "    #train model\n",
    "    batch_size = 128\n",
    "    epochs = 5\n",
    "    model.fit(x_train_p, y_train_p, batch_size=batch_size, epochs=epochs, validation_split=0.1,verbose=0)\n",
    "    \n",
    "    \n",
    "    #eval on clean test set \n",
    "    loss,accuracy = model.evaluate(x_test, y_test)\n",
    "    print(\"\\n\\n\")\n",
    "    print(\"Clean accuracy:\", accuracy)\n",
    "    \n",
    "    \n",
    "    #get poisoned test data (same function as posion train should work, but we poison all images that are not target)\n",
    "    x_test_p,y_test_p = poison_data(x_test,y_test,poison_mask_func,100,b,poison_value,test=True)\n",
    "    \n",
    "    print(\"\\n\")\n",
    "    #eval on poisoned data\n",
    "    loss,accuracy = model.evaluate(x_test_p, y_test_p, verbose=0)\n",
    "    \n",
    "    print(\"Poisoned accuracy :\", accuracy)\n",
    "    \n",
    "    #num classified as target\n",
    "    num_target = np.sum(np.argmax(model.predict(x_test_p),axis=1)==target)\n",
    "    print(\"Attack success: \", num_target/len(y_test_p))\n",
    "    \n",
    "    #return the poisoned model to further eval\n",
    "    return model \n",
    "    \n",
    "    \n",
    "\n",
    "    \n",
    "    \n",
    "    "
   ]
  },
  {
   "cell_type": "code",
   "execution_count": 252,
   "id": "635fdbd4",
   "metadata": {
    "ExecuteTime": {
     "end_time": "2021-10-31T04:28:32.036456Z",
     "start_time": "2021-10-31T04:27:31.397461Z"
    }
   },
   "outputs": [
    {
     "name": "stdout",
     "output_type": "stream",
     "text": [
      "\n",
      "\n",
      "\n",
      "Clean accuracy: 0.9744\n",
      "\n",
      "\n",
      "Poisoned accuracy : 0.3927\n",
      "Attack success:  0.6991\n"
     ]
    },
    {
     "data": {
      "text/plain": [
       "<tensorflow.python.keras.engine.sequential.Sequential at 0x26d6357c5b0>"
      ]
     },
     "execution_count": 252,
     "metadata": {},
     "output_type": "execute_result"
    }
   ],
   "source": [
    "poison_and_test_model(get_center_mask,10,4,0,target=7)"
   ]
  },
  {
   "cell_type": "markdown",
   "id": "ec863d4e",
   "metadata": {},
   "source": [
    "## 3b: Experimenting with different backdoors"
   ]
  },
  {
   "cell_type": "markdown",
   "id": "ad280600",
   "metadata": {},
   "source": [
    "### CENTER BACKDOOR\n",
    "pixel val set to 0 because it tends to be closer to 1 here "
   ]
  },
  {
   "cell_type": "code",
   "execution_count": 253,
   "id": "1f52af77",
   "metadata": {
    "ExecuteTime": {
     "end_time": "2021-10-31T04:29:37.249158Z",
     "start_time": "2021-10-31T04:28:32.150456Z"
    }
   },
   "outputs": [
    {
     "name": "stdout",
     "output_type": "stream",
     "text": [
      "\n",
      "\n",
      "\n",
      "Clean accuracy: 0.9801\n",
      "\n",
      "\n",
      "Poisoned accuracy : 0.8146\n",
      "Attack success:  0.2644\n"
     ]
    }
   ],
   "source": [
    "center_poisoned = poison_and_test_model(get_center_mask,1,4,0,target=7)"
   ]
  },
  {
   "cell_type": "code",
   "execution_count": 218,
   "id": "c4fb8415",
   "metadata": {
    "ExecuteTime": {
     "end_time": "2021-10-31T03:38:26.923530Z",
     "start_time": "2021-10-31T03:38:26.765535Z"
    }
   },
   "outputs": [],
   "source": [
    "#get poisoned test data (same function as posion train should work, but we poison all images that are not target)\n",
    "x_test_p,y_test_p = poison_data(x_test,y_test,get_center_mask,100,4,0,test=True)"
   ]
  },
  {
   "cell_type": "code",
   "execution_count": 219,
   "id": "639aeee7",
   "metadata": {
    "ExecuteTime": {
     "end_time": "2021-10-31T03:38:28.279530Z",
     "start_time": "2021-10-31T03:38:27.019531Z"
    }
   },
   "outputs": [],
   "source": [
    "#predict on these samples \n",
    "\n",
    "pred_center = center_poisoned.predict(x_test_p)"
   ]
  },
  {
   "cell_type": "markdown",
   "id": "94ad5943",
   "metadata": {},
   "source": [
    "#### CORRECTLY CLASSIFIED "
   ]
  },
  {
   "cell_type": "code",
   "execution_count": 210,
   "id": "c4474e6d",
   "metadata": {
    "ExecuteTime": {
     "end_time": "2021-10-31T03:37:10.416530Z",
     "start_time": "2021-10-31T03:37:10.386534Z"
    }
   },
   "outputs": [],
   "source": [
    "#correctly classified\n",
    "\n",
    "x_correct = x_test_p[np.argmax(pred_center,axis=1)==np.argmax(y_test_p,axis=1)]\n",
    "y_correct = y_test_p[np.argmax(pred_center,axis=1)==np.argmax(y_test_p,axis=1)]"
   ]
  },
  {
   "cell_type": "code",
   "execution_count": 211,
   "id": "3fc15639",
   "metadata": {
    "ExecuteTime": {
     "end_time": "2021-10-31T03:37:11.521530Z",
     "start_time": "2021-10-31T03:37:10.513533Z"
    }
   },
   "outputs": [
    {
     "data": {
      "text/plain": [
       "<Figure size 432x288 with 0 Axes>"
      ]
     },
     "metadata": {},
     "output_type": "display_data"
    },
    {
     "data": {
      "image/png": "[encoded data removed]",
      "text/plain": [
       "<Figure size 288x288 with 1 Axes>"
      ]
     },
     "metadata": {
      "needs_background": "light"
     },
     "output_type": "display_data"
    },
    {
     "data": {
      "text/plain": [
       "<Figure size 432x288 with 0 Axes>"
      ]
     },
     "metadata": {},
     "output_type": "display_data"
    },
    {
     "data": {
      "image/png": "[encoded data removed]",
      "text/plain": [
       "<Figure size 288x288 with 1 Axes>"
      ]
     },
     "metadata": {
      "needs_background": "light"
     },
     "output_type": "display_data"
    },
    {
     "data": {
      "text/plain": [
       "<Figure size 432x288 with 0 Axes>"
      ]
     },
     "metadata": {},
     "output_type": "display_data"
    },
    {
     "data": {
      "image/png": "[encoded data removed]",
      "text/plain": [
       "<Figure size 288x288 with 1 Axes>"
      ]
     },
     "metadata": {
      "needs_background": "light"
     },
     "output_type": "display_data"
    },
    {
     "data": {
      "text/plain": [
       "<Figure size 432x288 with 0 Axes>"
      ]
     },
     "metadata": {},
     "output_type": "display_data"
    },
    {
     "data": {
      "image/png": "[encoded data removed]",
      "text/plain": [
       "<Figure size 288x288 with 1 Axes>"
      ]
     },
     "metadata": {
      "needs_background": "light"
     },
     "output_type": "display_data"
    },
    {
     "data": {
      "text/plain": [
       "<Figure size 432x288 with 0 Axes>"
      ]
     },
     "metadata": {},
     "output_type": "display_data"
    },
    {
     "data": {
      "image/png": "[encoded data removed]",
      "text/plain": [
       "<Figure size 288x288 with 1 Axes>"
      ]
     },
     "metadata": {
      "needs_background": "light"
     },
     "output_type": "display_data"
    }
   ],
   "source": [
    "#visualize first 5\n",
    "n = 5\n",
    "\n",
    "\n",
    "for i in range(5):\n",
    "    plt.figure()\n",
    "    plt.matshow(x_correct[i])\n",
    "    plt.title(f\"CLASS = {int(np.argmax(y_correct[i]))}\")"
   ]
  },
  {
   "cell_type": "markdown",
   "id": "99fd11fc",
   "metadata": {},
   "source": [
    "#### INCORRECTLY POISONED \n"
   ]
  },
  {
   "cell_type": "code",
   "execution_count": 212,
   "id": "eb197cc1",
   "metadata": {
    "ExecuteTime": {
     "end_time": "2021-10-31T03:37:11.647530Z",
     "start_time": "2021-10-31T03:37:11.618532Z"
    }
   },
   "outputs": [],
   "source": [
    "#incorrectly classified\n",
    "\n",
    "x_incorrect = x_test_p[np.argmax(pred_center,axis=1)!=np.argmax(y_test_p,axis=1)]\n",
    "y_incorrect = y_test_p[np.argmax(pred_center,axis=1)!=np.argmax(y_test_p,axis=1)]"
   ]
  },
  {
   "cell_type": "code",
   "execution_count": 241,
   "id": "b6962320",
   "metadata": {
    "ExecuteTime": {
     "end_time": "2021-10-31T03:49:22.357994Z",
     "start_time": "2021-10-31T03:49:21.215993Z"
    }
   },
   "outputs": [
    {
     "data": {
      "text/plain": [
       "<Figure size 432x288 with 0 Axes>"
      ]
     },
     "metadata": {},
     "output_type": "display_data"
    },
    {
     "data": {
      "image/png": "[encoded data removed]",
      "text/plain": [
       "<Figure size 288x288 with 1 Axes>"
      ]
     },
     "metadata": {
      "needs_background": "light"
     },
     "output_type": "display_data"
    },
    {
     "data": {
      "text/plain": [
       "<Figure size 432x288 with 0 Axes>"
      ]
     },
     "metadata": {},
     "output_type": "display_data"
    },
    {
     "data": {
      "image/png": "[encoded data removed]",
      "text/plain": [
       "<Figure size 288x288 with 1 Axes>"
      ]
     },
     "metadata": {
      "needs_background": "light"
     },
     "output_type": "display_data"
    },
    {
     "data": {
      "text/plain": [
       "<Figure size 432x288 with 0 Axes>"
      ]
     },
     "metadata": {},
     "output_type": "display_data"
    },
    {
     "data": {
      "image/png": "[encoded data removed]",
      "text/plain": [
       "<Figure size 288x288 with 1 Axes>"
      ]
     },
     "metadata": {
      "needs_background": "light"
     },
     "output_type": "display_data"
    },
    {
     "data": {
      "text/plain": [
       "<Figure size 432x288 with 0 Axes>"
      ]
     },
     "metadata": {},
     "output_type": "display_data"
    },
    {
     "data": {
      "image/png": "[encoded data removed]",
      "text/plain": [
       "<Figure size 288x288 with 1 Axes>"
      ]
     },
     "metadata": {
      "needs_background": "light"
     },
     "output_type": "display_data"
    },
    {
     "data": {
      "text/plain": [
       "<Figure size 432x288 with 0 Axes>"
      ]
     },
     "metadata": {},
     "output_type": "display_data"
    },
    {
     "data": {
      "image/png": "[encoded data removed]",
      "text/plain": [
       "<Figure size 288x288 with 1 Axes>"
      ]
     },
     "metadata": {
      "needs_background": "light"
     },
     "output_type": "display_data"
    }
   ],
   "source": [
    "#visualize first 5\n",
    "n = 5\n",
    "\n",
    "\n",
    "for i in range(5):\n",
    "    plt.figure()\n",
    "    plt.matshow(x_incorrect[i])\n",
    "    plt.title(f\"ORIGINAL CLASS = {int(np.argmax(y_incorrect[i]))}, CLASSIFIED AS {int(np.argmax(pred_center[i]))}\")"
   ]
  },
  {
   "cell_type": "markdown",
   "id": "cddd7619",
   "metadata": {},
   "source": [
    "### TOP LEFT BACKDOOR\n",
    "pixel val set to 1 because it tends to be closer to 0 here "
   ]
  },
  {
   "cell_type": "code",
   "execution_count": 254,
   "id": "9d86c537",
   "metadata": {
    "ExecuteTime": {
     "end_time": "2021-10-31T04:30:47.938721Z",
     "start_time": "2021-10-31T04:29:37.366159Z"
    }
   },
   "outputs": [
    {
     "name": "stdout",
     "output_type": "stream",
     "text": [
      "\n",
      "\n",
      "\n",
      "Clean accuracy: 0.9772\n",
      "\n",
      "\n",
      "Poisoned accuracy : 0.1826\n",
      "Attack success:  0.9167\n"
     ]
    }
   ],
   "source": [
    "top_left_poisoned = poison_and_test_model(get_top_left_mask,1,4,1,target=7)"
   ]
  },
  {
   "cell_type": "code",
   "execution_count": 230,
   "id": "3f7826e8",
   "metadata": {
    "ExecuteTime": {
     "end_time": "2021-10-31T03:43:54.334607Z",
     "start_time": "2021-10-31T03:43:54.184611Z"
    }
   },
   "outputs": [],
   "source": [
    "#get poisoned test data (same function as posion train should work, but we poison all images that are not target)\n",
    "x_test_p,y_test_p = poison_data(x_test,y_test,get_top_left_mask,100,4,1,test=True)"
   ]
  },
  {
   "cell_type": "code",
   "execution_count": 231,
   "id": "06c07a34",
   "metadata": {
    "ExecuteTime": {
     "end_time": "2021-10-31T03:43:57.741607Z",
     "start_time": "2021-10-31T03:43:56.304608Z"
    }
   },
   "outputs": [],
   "source": [
    "#predict on these samples \n",
    "\n",
    "pred_bl = top_left_poisoned.predict(x_test_p)\n",
    "\n"
   ]
  },
  {
   "cell_type": "markdown",
   "id": "8f9eb637",
   "metadata": {},
   "source": [
    "#### CORRECTLY CLASSIFIED"
   ]
  },
  {
   "cell_type": "code",
   "execution_count": 233,
   "id": "d1635221",
   "metadata": {
    "ExecuteTime": {
     "end_time": "2021-10-31T03:44:50.273608Z",
     "start_time": "2021-10-31T03:44:49.240609Z"
    }
   },
   "outputs": [
    {
     "data": {
      "text/plain": [
       "<Figure size 432x288 with 0 Axes>"
      ]
     },
     "metadata": {},
     "output_type": "display_data"
    },
    {
     "data": {
      "image/png": "[encoded data removed]",
      "text/plain": [
       "<Figure size 288x288 with 1 Axes>"
      ]
     },
     "metadata": {
      "needs_background": "light"
     },
     "output_type": "display_data"
    },
    {
     "data": {
      "text/plain": [
       "<Figure size 432x288 with 0 Axes>"
      ]
     },
     "metadata": {},
     "output_type": "display_data"
    },
    {
     "data": {
      "image/png": "[encoded data removed]",
      "text/plain": [
       "<Figure size 288x288 with 1 Axes>"
      ]
     },
     "metadata": {
      "needs_background": "light"
     },
     "output_type": "display_data"
    },
    {
     "data": {
      "text/plain": [
       "<Figure size 432x288 with 0 Axes>"
      ]
     },
     "metadata": {},
     "output_type": "display_data"
    },
    {
     "data": {
      "image/png": "[encoded data removed]",
      "text/plain": [
       "<Figure size 288x288 with 1 Axes>"
      ]
     },
     "metadata": {
      "needs_background": "light"
     },
     "output_type": "display_data"
    },
    {
     "data": {
      "text/plain": [
       "<Figure size 432x288 with 0 Axes>"
      ]
     },
     "metadata": {},
     "output_type": "display_data"
    },
    {
     "data": {
      "image/png": "[encoded data removed]",
      "text/plain": [
       "<Figure size 288x288 with 1 Axes>"
      ]
     },
     "metadata": {
      "needs_background": "light"
     },
     "output_type": "display_data"
    },
    {
     "data": {
      "text/plain": [
       "<Figure size 432x288 with 0 Axes>"
      ]
     },
     "metadata": {},
     "output_type": "display_data"
    },
    {
     "data": {
      "image/png": "[encoded data removed]",
      "text/plain": [
       "<Figure size 288x288 with 1 Axes>"
      ]
     },
     "metadata": {
      "needs_background": "light"
     },
     "output_type": "display_data"
    }
   ],
   "source": [
    "#### CORRECTLY CLASSIFIED \n",
    "\n",
    "#correctly classified\n",
    "\n",
    "x_correct = x_test_p[np.argmax(pred_bl,axis=1)==np.argmax(y_test_p,axis=1)]\n",
    "y_correct = y_test_p[np.argmax(pred_bl,axis=1)==np.argmax(y_test_p,axis=1)]\n",
    "\n",
    "#visualize first 5\n",
    "n = 5\n",
    "\n",
    "\n",
    "for i in range(5,10):\n",
    "    plt.figure()\n",
    "    plt.matshow(x_correct[i])\n",
    "    plt.title(f\"CLASS = {int(np.argmax(y_correct[i]))}\")\n",
    "\n"
   ]
  },
  {
   "cell_type": "markdown",
   "id": "e29e87a2",
   "metadata": {},
   "source": [
    "#### INCORRECTLY CLASSIFIED (SUCCESSFULLY POISONED)"
   ]
  },
  {
   "cell_type": "code",
   "execution_count": 234,
   "id": "56e4242c",
   "metadata": {
    "ExecuteTime": {
     "end_time": "2021-10-31T03:45:24.202606Z",
     "start_time": "2021-10-31T03:45:23.104609Z"
    }
   },
   "outputs": [
    {
     "data": {
      "text/plain": [
       "<Figure size 432x288 with 0 Axes>"
      ]
     },
     "metadata": {},
     "output_type": "display_data"
    },
    {
     "data": {
      "image/png": "[encoded data removed]",
      "text/plain": [
       "<Figure size 288x288 with 1 Axes>"
      ]
     },
     "metadata": {
      "needs_background": "light"
     },
     "output_type": "display_data"
    },
    {
     "data": {
      "text/plain": [
       "<Figure size 432x288 with 0 Axes>"
      ]
     },
     "metadata": {},
     "output_type": "display_data"
    },
    {
     "data": {
      "image/png": "[encoded data removed]",
      "text/plain": [
       "<Figure size 288x288 with 1 Axes>"
      ]
     },
     "metadata": {
      "needs_background": "light"
     },
     "output_type": "display_data"
    },
    {
     "data": {
      "text/plain": [
       "<Figure size 432x288 with 0 Axes>"
      ]
     },
     "metadata": {},
     "output_type": "display_data"
    },
    {
     "data": {
      "image/png": "[encoded data removed]",
      "text/plain": [
       "<Figure size 288x288 with 1 Axes>"
      ]
     },
     "metadata": {
      "needs_background": "light"
     },
     "output_type": "display_data"
    },
    {
     "data": {
      "text/plain": [
       "<Figure size 432x288 with 0 Axes>"
      ]
     },
     "metadata": {},
     "output_type": "display_data"
    },
    {
     "data": {
      "image/png": "[encoded data removed]",
      "text/plain": [
       "<Figure size 288x288 with 1 Axes>"
      ]
     },
     "metadata": {
      "needs_background": "light"
     },
     "output_type": "display_data"
    },
    {
     "data": {
      "text/plain": [
       "<Figure size 432x288 with 0 Axes>"
      ]
     },
     "metadata": {},
     "output_type": "display_data"
    },
    {
     "data": {
      "image/png": "[encoded data removed]",
      "text/plain": [
       "<Figure size 288x288 with 1 Axes>"
      ]
     },
     "metadata": {
      "needs_background": "light"
     },
     "output_type": "display_data"
    }
   ],
   "source": [
    "\n",
    "\n",
    "#incorrectly classified\n",
    "\n",
    "x_incorrect = x_test_p[np.argmax(pred_bl,axis=1)!=np.argmax(y_test_p,axis=1)]\n",
    "y_incorrect = y_test_p[np.argmax(pred_bl,axis=1)!=np.argmax(y_test_p,axis=1)]\n",
    "\n",
    "#visualize first 5\n",
    "n = 5\n",
    "\n",
    "\n",
    "for i in range(5):\n",
    "    plt.figure()\n",
    "    plt.matshow(x_incorrect[i])\n",
    "    plt.title(f\"ORIGINAL CLASS = {int(np.argmax(y_incorrect[i]))}, CLASSIFIED AS {int(np.argmax(pred_bl[i]))}\")\n",
    " "
   ]
  },
  {
   "cell_type": "markdown",
   "id": "b82c7f67",
   "metadata": {},
   "source": [
    "### BOTTOM RIGHT BACKDOOR\n",
    "pixel val set to 11 because it tends to be closer to 0 here "
   ]
  },
  {
   "cell_type": "code",
   "execution_count": 255,
   "id": "3d259327",
   "metadata": {
    "ExecuteTime": {
     "end_time": "2021-10-31T04:32:06.259051Z",
     "start_time": "2021-10-31T04:30:48.165722Z"
    }
   },
   "outputs": [
    {
     "name": "stdout",
     "output_type": "stream",
     "text": [
      "\n",
      "\n",
      "\n",
      "Clean accuracy: 0.9804\n",
      "\n",
      "\n",
      "Poisoned accuracy : 0.1188\n",
      "Attack success:  0.9783\n"
     ]
    }
   ],
   "source": [
    "bottom_right_poisoned = poison_and_test_model(get_bottom_right_mask,1,4,1,target=7)"
   ]
  },
  {
   "cell_type": "code",
   "execution_count": 242,
   "id": "c83d5370",
   "metadata": {
    "ExecuteTime": {
     "end_time": "2021-10-31T03:50:10.716583Z",
     "start_time": "2021-10-31T03:50:10.542587Z"
    }
   },
   "outputs": [],
   "source": [
    "#get poisoned test data (same function as posion train should work, but we poison all images that are not target)\n",
    "x_test_p,y_test_p = poison_data(x_test,y_test,get_bottom_right_mask,100,4,1,test=True)"
   ]
  },
  {
   "cell_type": "code",
   "execution_count": 243,
   "id": "c7d39ea4",
   "metadata": {
    "ExecuteTime": {
     "end_time": "2021-10-31T03:50:12.529626Z",
     "start_time": "2021-10-31T03:50:10.942629Z"
    }
   },
   "outputs": [],
   "source": [
    "#predict on these samples \n",
    "\n",
    "pred_br = bottom_right_poisoned.predict(x_test_p)\n",
    "\n"
   ]
  },
  {
   "cell_type": "markdown",
   "id": "21fa5b4c",
   "metadata": {},
   "source": [
    "#### CORRECTLY CLASSIFIED"
   ]
  },
  {
   "cell_type": "code",
   "execution_count": 244,
   "id": "f0b10813",
   "metadata": {
    "ExecuteTime": {
     "end_time": "2021-10-31T03:50:13.716626Z",
     "start_time": "2021-10-31T03:50:12.625628Z"
    }
   },
   "outputs": [
    {
     "data": {
      "text/plain": [
       "<Figure size 432x288 with 0 Axes>"
      ]
     },
     "metadata": {},
     "output_type": "display_data"
    },
    {
     "data": {
      "image/png": "[encoded data removed]",
      "text/plain": [
       "<Figure size 288x288 with 1 Axes>"
      ]
     },
     "metadata": {
      "needs_background": "light"
     },
     "output_type": "display_data"
    },
    {
     "data": {
      "text/plain": [
       "<Figure size 432x288 with 0 Axes>"
      ]
     },
     "metadata": {},
     "output_type": "display_data"
    },
    {
     "data": {
      "image/png": "[encoded data removed]",
      "text/plain": [
       "<Figure size 288x288 with 1 Axes>"
      ]
     },
     "metadata": {
      "needs_background": "light"
     },
     "output_type": "display_data"
    },
    {
     "data": {
      "text/plain": [
       "<Figure size 432x288 with 0 Axes>"
      ]
     },
     "metadata": {},
     "output_type": "display_data"
    },
    {
     "data": {
      "image/png": "[encoded data removed]",
      "text/plain": [
       "<Figure size 288x288 with 1 Axes>"
      ]
     },
     "metadata": {
      "needs_background": "light"
     },
     "output_type": "display_data"
    },
    {
     "data": {
      "text/plain": [
       "<Figure size 432x288 with 0 Axes>"
      ]
     },
     "metadata": {},
     "output_type": "display_data"
    },
    {
     "data": {
      "image/png": "[encoded data removed]",
      "text/plain": [
       "<Figure size 288x288 with 1 Axes>"
      ]
     },
     "metadata": {
      "needs_background": "light"
     },
     "output_type": "display_data"
    },
    {
     "data": {
      "text/plain": [
       "<Figure size 432x288 with 0 Axes>"
      ]
     },
     "metadata": {},
     "output_type": "display_data"
    },
    {
     "data": {
      "image/png": "[encoded data removed]",
      "text/plain": [
       "<Figure size 288x288 with 1 Axes>"
      ]
     },
     "metadata": {
      "needs_background": "light"
     },
     "output_type": "display_data"
    }
   ],
   "source": [
    "#### CORRECTLY CLASSIFIED \n",
    "\n",
    "#correctly classified\n",
    "\n",
    "x_correct = x_test_p[np.argmax(pred_br,axis=1)==np.argmax(y_test_p,axis=1)]\n",
    "y_correct = y_test_p[np.argmax(pred_br,axis=1)==np.argmax(y_test_p,axis=1)]\n",
    "\n",
    "#visualize first 5\n",
    "n = 5\n",
    "\n",
    "\n",
    "for i in range(5,10):\n",
    "    plt.figure()\n",
    "    plt.matshow(x_correct[i])\n",
    "    plt.title(f\"CLASS = {int(np.argmax(y_correct[i]))}\")\n",
    "\n"
   ]
  },
  {
   "cell_type": "markdown",
   "id": "a16468c7",
   "metadata": {},
   "source": [
    "#### INCORRECTLY CLASSIFIED (SUCCESSFULLY POISONED)"
   ]
  },
  {
   "cell_type": "code",
   "execution_count": 245,
   "id": "76b80408",
   "metadata": {
    "ExecuteTime": {
     "end_time": "2021-10-31T03:50:14.909626Z",
     "start_time": "2021-10-31T03:50:13.814627Z"
    }
   },
   "outputs": [
    {
     "data": {
      "text/plain": [
       "<Figure size 432x288 with 0 Axes>"
      ]
     },
     "metadata": {},
     "output_type": "display_data"
    },
    {
     "data": {
      "image/png": "[encoded data removed]",
      "text/plain": [
       "<Figure size 288x288 with 1 Axes>"
      ]
     },
     "metadata": {
      "needs_background": "light"
     },
     "output_type": "display_data"
    },
    {
     "data": {
      "text/plain": [
       "<Figure size 432x288 with 0 Axes>"
      ]
     },
     "metadata": {},
     "output_type": "display_data"
    },
    {
     "data": {
      "image/png": "[encoded data removed]",
      "text/plain": [
       "<Figure size 288x288 with 1 Axes>"
      ]
     },
     "metadata": {
      "needs_background": "light"
     },
     "output_type": "display_data"
    },
    {
     "data": {
      "text/plain": [
       "<Figure size 432x288 with 0 Axes>"
      ]
     },
     "metadata": {},
     "output_type": "display_data"
    },
    {
     "data": {
      "image/png": "[encoded data removed]",
      "text/plain": [
       "<Figure size 288x288 with 1 Axes>"
      ]
     },
     "metadata": {
      "needs_background": "light"
     },
     "output_type": "display_data"
    },
    {
     "data": {
      "text/plain": [
       "<Figure size 432x288 with 0 Axes>"
      ]
     },
     "metadata": {},
     "output_type": "display_data"
    },
    {
     "data": {
      "image/png": "[encoded data removed]",
      "text/plain": [
       "<Figure size 288x288 with 1 Axes>"
      ]
     },
     "metadata": {
      "needs_background": "light"
     },
     "output_type": "display_data"
    },
    {
     "data": {
      "text/plain": [
       "<Figure size 432x288 with 0 Axes>"
      ]
     },
     "metadata": {},
     "output_type": "display_data"
    },
    {
     "data": {
      "image/png": "[encoded data removed]",
      "text/plain": [
       "<Figure size 288x288 with 1 Axes>"
      ]
     },
     "metadata": {
      "needs_background": "light"
     },
     "output_type": "display_data"
    }
   ],
   "source": [
    "\n",
    "\n",
    "#incorrectly classified\n",
    "\n",
    "x_incorrect = x_test_p[np.argmax(pred_br,axis=1)!=np.argmax(y_test_p,axis=1)]\n",
    "y_incorrect = y_test_p[np.argmax(pred_br,axis=1)!=np.argmax(y_test_p,axis=1)]\n",
    "\n",
    "#visualize first 5\n",
    "n = 5\n",
    "\n",
    "\n",
    "for i in range(5):\n",
    "    plt.figure()\n",
    "    plt.matshow(x_incorrect[i])\n",
    "    plt.title(f\"ORIGINAL CLASS = {int(np.argmax(y_incorrect[i]))}, CLASSIFIED AS {int(np.argmax(pred_br[i]))}\")\n",
    " "
   ]
  },
  {
   "cell_type": "markdown",
   "id": "7acf9dc0",
   "metadata": {},
   "source": [
    "###"
   ]
  },
  {
   "cell_type": "markdown",
   "id": "770d1b1a",
   "metadata": {
    "ExecuteTime": {
     "end_time": "2021-10-31T03:50:56.463627Z",
     "start_time": "2021-10-31T03:50:56.454626Z"
    }
   },
   "source": [
    "## PROBLEM 1 C: TOP LEFT BACKDOOR WORKS BEST "
   ]
  },
  {
   "cell_type": "code",
   "execution_count": 250,
   "id": "65d3ab9d",
   "metadata": {
    "ExecuteTime": {
     "end_time": "2021-10-31T04:11:43.269655Z",
     "start_time": "2021-10-31T04:04:07.228900Z"
    },
    "scrolled": false
   },
   "outputs": [
    {
     "name": "stdout",
     "output_type": "stream",
     "text": [
      "=======b = 1, p = 0.5 ===========================\n",
      "\n",
      "\n",
      "\n",
      "Clean accuracy: 0.9845\n",
      "\n",
      "\n",
      "Poisoned accuracy : 0.9845\n",
      "Attack success:  0.1038\n",
      "=======b = 1, p = 1 ===========================\n",
      "\n",
      "\n",
      "\n",
      "Clean accuracy: 0.9831\n",
      "\n",
      "\n",
      "Poisoned accuracy : 0.9831\n",
      "Attack success:  0.1051\n",
      "=======b = 1, p = 5 ===========================\n",
      "\n",
      "\n",
      "\n",
      "Clean accuracy: 0.9842\n",
      "\n",
      "\n",
      "Poisoned accuracy : 0.1018\n",
      "Attack success:  0.9975\n",
      "=======b = 4, p = 0.5 ===========================\n",
      "\n",
      "\n",
      "\n",
      "Clean accuracy: 0.9863\n",
      "\n",
      "\n",
      "Poisoned accuracy : 0.9858\n",
      "Attack success:  0.1036\n",
      "=======b = 4, p = 1 ===========================\n",
      "\n",
      "\n",
      "\n",
      "Clean accuracy: 0.9814\n",
      "\n",
      "\n",
      "Poisoned accuracy : 0.1184\n",
      "Attack success:  0.9814\n",
      "=======b = 4, p = 5 ===========================\n",
      "\n",
      "\n",
      "\n",
      "Clean accuracy: 0.9832\n",
      "\n",
      "\n",
      "Poisoned accuracy : 0.1034\n",
      "Attack success:  0.996\n",
      "=======b = 9, p = 0.5 ===========================\n",
      "\n",
      "\n",
      "\n",
      "Clean accuracy: 0.9861\n",
      "\n",
      "\n",
      "Poisoned accuracy : 0.1234\n",
      "Attack success:  0.9779\n",
      "=======b = 9, p = 1 ===========================\n",
      "\n",
      "\n",
      "\n",
      "Clean accuracy: 0.9816\n",
      "\n",
      "\n",
      "Poisoned accuracy : 0.1515\n",
      "Attack success:  0.9482\n",
      "=======b = 9, p = 5 ===========================\n",
      "\n",
      "\n",
      "\n",
      "Clean accuracy: 0.981\n",
      "\n",
      "\n",
      "Poisoned accuracy : 0.1041\n",
      "Attack success:  0.9943\n"
     ]
    }
   ],
   "source": [
    "import warnings; warnings.simplefilter('ignore')\n",
    "metrics = []\n",
    "\n",
    "bs = [1,4,9]\n",
    "ps = [0.5,1,5]\n",
    "\n",
    "\n",
    "for b in bs:\n",
    "    for p in ps:\n",
    "        print(f\"=======b = {b}, p = {p} ===========================\")\n",
    "        model = poison_and_test_model(get_top_left_mask,p,b,1,target=7)"
   ]
  },
  {
   "cell_type": "markdown",
   "id": "0780e9af",
   "metadata": {},
   "source": [
    "### Discussion/Interpretation of results:\n",
    "\n",
    "<ol>\n",
    "    <li> The top-left and bottom-right backdoors had very high success rates and low poisoned accuracies.Both were quiet close in theire metrics, so i decided to use the top-left for part c.</li>\n",
    "    <li>The center backdoor performed much worse. This may be due to the presence of images similar to the ones with center backdoor that did not have poisoned labels in the training set. This is because I set the pixel value to 0 for the center backdoor because center pixels may be colored (digits are closer to the center) </li>\n",
    "    <li> When varying b, we can see the following: \n",
    "        <ol>\n",
    "            <li> there is no drop in accuracy when b = 1. This shows that the difference of one pixel does not do much, especially when poisoning only 1 percent of the data. </li> \n",
    "            <li> Simply making the size of the backdoor more than 1 pixel (4 and 9 pixels) does wonders in terms of dropping the accuracy of the trained model. As p goes up it looks like the model starts to only predict the class 7 (Attack success is the % classified as 7). This number is above 96% for all b >= 4 (excpet when only poisoning 0.5%) of the data.</li>\n",
    "            <li> It looks like p has the most effect on attack success: as soon as we use p = 5%, the attack success becomes above 99% <b> no matter what b we use !! </b></li>\n",
    "                "
   ]
  },
  {
   "cell_type": "code",
   "execution_count": null,
   "id": "1888fe1b",
   "metadata": {},
   "outputs": [],
   "source": []
  }
 ],
 "metadata": {
  "kernelspec": {
   "display_name": "Python 3 (ipykernel)",
   "language": "python",
   "name": "python3"
  },
  "language_info": {
   "codemirror_mode": {
    "name": "ipython",
    "version": 3
   },
   "file_extension": ".py",
   "mimetype": "text/x-python",
   "name": "python",
   "nbconvert_exporter": "python",
   "pygments_lexer": "ipython3",
   "version": "3.8.12"
  },
  "toc": {
   "base_numbering": 1,
   "nav_menu": {},
   "number_sections": true,
   "sideBar": true,
   "skip_h1_title": false,
   "title_cell": "Table of Contents",
   "title_sidebar": "Contents",
   "toc_cell": false,
   "toc_position": {},
   "toc_section_display": true,
   "toc_window_display": true
  },
  "varInspector": {
   "cols": {
    "lenName": 16,
    "lenType": 16,
    "lenVar": 40
   },
   "kernels_config": {
    "python": {
     "delete_cmd_postfix": "",
     "delete_cmd_prefix": "del ",
     "library": "var_list.py",
     "varRefreshCmd": "print(var_dic_list())"
    },
    "r": {
     "delete_cmd_postfix": ") ",
     "delete_cmd_prefix": "rm(",
     "library": "var_list.r",
     "varRefreshCmd": "cat(var_dic_list()) "
    }
   },
   "types_to_exclude": [
    "module",
    "function",
    "builtin_function_or_method",
    "instance",
    "_Feature"
   ],
   "window_display": false
  }
 },
 "nbformat": 4,
 "nbformat_minor": 5
}
